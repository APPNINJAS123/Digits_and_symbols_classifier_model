{
  "nbformat": 4,
  "nbformat_minor": 0,
  "metadata": {
    "colab": {
      "provenance": [],
      "gpuType": "T4"
    },
    "kernelspec": {
      "name": "python3",
      "display_name": "Python 3"
    },
    "language_info": {
      "name": "python"
    },
    "accelerator": "GPU"
  },
  "cells": [
    {
      "cell_type": "code",
      "execution_count": 1,
      "metadata": {
        "id": "_bi18XCkkhoJ"
      },
      "outputs": [],
      "source": [
        "\n",
        "import cv2\n",
        "import numpy as np\n",
        "import matplotlib.pyplot as plt\n",
        "import tensorflow as tf\n",
        "from tensorflow.keras.datasets import mnist\n",
        "from tensorflow.keras.models import Sequential\n",
        "from tensorflow.keras.layers import Dense,Flatten,Conv2D,MaxPooling2D\n",
        "from tensorflow.keras.utils import to_categorical"
      ]
    },
    {
      "cell_type": "code",
      "source": [
        "# STEP 1: Reload MNIST properly\n",
        "from tensorflow.keras.datasets import mnist\n",
        "\n",
        "(x_train, y_train), (x_test, y_test) = mnist.load_data()\n",
        "\n",
        "# Check that y_train only has digits 0–9\n",
        "print(\"MNIST labels:\", np.unique(y_train))  # Should show: [0 1 2 3 4 5 6 7 8 9]\n"
      ],
      "metadata": {
        "colab": {
          "base_uri": "https://localhost:8080/"
        },
        "id": "shZkJfVAlMTd",
        "outputId": "8b1b19ec-c9b0-43c8-fb72-3818d5ac7d6f"
      },
      "execution_count": 2,
      "outputs": [
        {
          "output_type": "stream",
          "name": "stdout",
          "text": [
            "Downloading data from https://storage.googleapis.com/tensorflow/tf-keras-datasets/mnist.npz\n",
            "\u001b[1m11490434/11490434\u001b[0m \u001b[32m━━━━━━━━━━━━━━━━━━━━\u001b[0m\u001b[37m\u001b[0m \u001b[1m0s\u001b[0m 0us/step\n",
            "MNIST labels: [0 1 2 3 4 5 6 7 8 9]\n"
          ]
        }
      ]
    },
    {
      "cell_type": "code",
      "source": [
        "x_train = x_train.reshape(-1, 28, 28, 1) / 255.0  # Normalize\n",
        "x_test = x_test.reshape(-1, 28, 28, 1) / 255.0"
      ],
      "metadata": {
        "id": "IkK_TtcqmYCO"
      },
      "execution_count": 3,
      "outputs": []
    },
    {
      "cell_type": "code",
      "source": [
        "print(np.unique(y_train))  # Should print [0, 1, ..., 9]\n"
      ],
      "metadata": {
        "colab": {
          "base_uri": "https://localhost:8080/"
        },
        "id": "6WjXDqRtYoOW",
        "outputId": "ec76af1e-46ba-4ca8-9570-478e71094dbb"
      },
      "execution_count": 4,
      "outputs": [
        {
          "output_type": "stream",
          "name": "stdout",
          "text": [
            "[0 1 2 3 4 5 6 7 8 9]\n"
          ]
        }
      ]
    },
    {
      "cell_type": "code",
      "source": [
        "import cv2\n",
        "import os\n",
        "import numpy as np\n",
        "\n",
        "\n",
        "output_dir = \"symbol_imageSSS\"\n",
        "os.makedirs(output_dir, exist_ok=True)"
      ],
      "metadata": {
        "id": "_1ZRQHDqnEfP"
      },
      "execution_count": 56,
      "outputs": []
    },
    {
      "cell_type": "code",
      "source": [],
      "metadata": {
        "id": "7BW1kZe__sTc"
      },
      "execution_count": 58,
      "outputs": []
    },
    {
      "cell_type": "code",
      "source": [
        "import cv2\n",
        "import numpy as np\n",
        "import os\n",
        "import random\n",
        "\n",
        "symbols = ['+', '-', '*', '/']\n",
        "symbol_map = {'+': 'plus', '-': 'minus', '*': 'star', '/': 'slash'}\n",
        "fonts = [cv2.FONT_HERSHEY_SIMPLEX, cv2.FONT_HERSHEY_COMPLEX]\n",
        "\n",
        "output_dir = 'symbol_imageSSS'\n",
        "os.makedirs(output_dir, exist_ok=True)\n",
        "\n",
        "for symbol in symbols:\n",
        "    safe_symbol = symbol_map[symbol]\n",
        "    for i in range(6000):\n",
        "        img = np.ones((28, 28), dtype=np.uint8) * 255\n",
        "\n",
        "        font = random.choice(fonts)\n",
        "        font_scale = random.uniform(0.7, 1.0)\n",
        "        thickness = random.choice([1, 2, 3])\n",
        "        x_offset = random.randint(0, 5)\n",
        "        y_offset = random.randint(20, 26)\n",
        "\n",
        "        cv2.putText(img, symbol, (x_offset, y_offset), font, font_scale, (0,), thickness)\n",
        "        filename = f\"{safe_symbol}_{i}.png\"\n",
        "        cv2.imwrite(os.path.join(output_dir, filename), img)\n",
        "\n",
        "\n"
      ],
      "metadata": {
        "id": "ec34NleuDp9B"
      },
      "execution_count": 10,
      "outputs": []
    },
    {
      "cell_type": "code",
      "source": [
        "missing = []\n",
        "\n",
        "for symbol in ['plus', 'minus', 'star', 'slash']:\n",
        "    for j in range(6000):  # Match the same number of images\n",
        "        path = f\"symbol_imageSSS/{symbol}_{j}.png\"\n",
        "        if not os.path.exists(path):\n",
        "            missing.append(path)\n",
        "\n",
        "print(f\"Missing: {len(missing)} files\")\n",
        "print(missing[:10])\n"
      ],
      "metadata": {
        "colab": {
          "base_uri": "https://localhost:8080/"
        },
        "id": "ZSQCaMTkpL88",
        "outputId": "c77165f3-8bc2-4ab5-9fc4-c479847335aa"
      },
      "execution_count": 57,
      "outputs": [
        {
          "output_type": "stream",
          "name": "stdout",
          "text": [
            "Missing: 0 files\n",
            "[]\n"
          ]
        }
      ]
    },
    {
      "cell_type": "code",
      "source": [],
      "metadata": {
        "id": "UzNWKaPCsEBZ"
      },
      "execution_count": null,
      "outputs": []
    },
    {
      "cell_type": "code",
      "source": [
        "from tensorflow.keras.utils import to_categorical\n",
        "from PIL import Image\n",
        "import numpy as np\n",
        "\n",
        "\n",
        "\n",
        "\n",
        "symbol_images = []\n",
        "symbol_labels = []\n",
        "\n",
        "for i, symbol in enumerate(symbols):\n",
        "    safe_symbol = symbol_map[symbol]\n",
        "    for j in range(6000):\n",
        "        img_path = f\"symbol_imageSSS/{safe_symbol}_{j}.png\"\n",
        "        img = Image.open(img_path).convert('L')  # Convert to grayscale\n",
        "        img = np.array(img) / 255.0  # Normalize to [0, 1]\n",
        "        img = img.reshape(28, 28, 1)  # Add channel dimension\n",
        "        symbol_images.append(img)\n",
        "        symbol_labels.append(10 + i)  # 10, 11, 12, 13\n",
        "\n",
        "symbol_images = np.array(symbol_images)\n",
        "symbol_labels = np.array(symbol_labels)\n",
        "\n",
        "\n",
        "\n"
      ],
      "metadata": {
        "id": "S8TnelZior6w"
      },
      "execution_count": 58,
      "outputs": []
    },
    {
      "cell_type": "code",
      "source": [
        "symbol_images.shape"
      ],
      "metadata": {
        "colab": {
          "base_uri": "https://localhost:8080/"
        },
        "id": "L5UgY3hssF5l",
        "outputId": "053cf351-0422-48e6-b099-adedf44a0a32"
      },
      "execution_count": 219,
      "outputs": [
        {
          "output_type": "execute_result",
          "data": {
            "text/plain": [
              "(24000, 28, 28, 1)"
            ]
          },
          "metadata": {},
          "execution_count": 219
        }
      ]
    },
    {
      "cell_type": "code",
      "source": [
        "# Reshape x_train to add channel dimension (from (28, 28) to (28, 28, 1))\n",
        "\n",
        "\n",
        "\n",
        "# Now combine\n",
        "x_train_full = np.concatenate((x_train, symbol_images), axis=0)\n",
        "x_test_full = np.concatenate((x_test, symbol_images), axis=0)\n",
        "\n",
        "# Combine labels\n",
        "y_train_full = np.concatenate((y_train, symbol_labels), axis=0)\n",
        "y_test_full = np.concatenate((y_test, symbol_labels), axis=0)\n",
        "\n",
        "\n",
        "\n"
      ],
      "metadata": {
        "id": "x_g6N_LXqWJu"
      },
      "execution_count": 14,
      "outputs": []
    },
    {
      "cell_type": "code",
      "source": [
        "y_train_full = to_categorical(y_train_full, num_classes=14)\n",
        "y_test_full=to_categorical(y_test_full, num_classes=14)"
      ],
      "metadata": {
        "id": "7hQrJC9ctV3J"
      },
      "execution_count": 15,
      "outputs": []
    },
    {
      "cell_type": "code",
      "source": [
        "print(\"x_train_full shape:\", x_train_full.shape)\n",
        "print(\"y_train_full shape:\", y_train_full.shape)\n",
        "print(\"Unique class labels:\", np.unique(np.argmax(y_train_full, axis=1)))\n",
        "\n"
      ],
      "metadata": {
        "colab": {
          "base_uri": "https://localhost:8080/"
        },
        "id": "RweuNe9Hqy33",
        "outputId": "c8774acb-13ab-4011-afeb-3cf3388427e5"
      },
      "execution_count": 16,
      "outputs": [
        {
          "output_type": "stream",
          "name": "stdout",
          "text": [
            "x_train_full shape: (84000, 28, 28, 1)\n",
            "y_train_full shape: (84000, 14)\n",
            "Unique class labels: [ 0  1  2  3  4  5  6  7  8  9 10 11 12 13]\n"
          ]
        }
      ]
    },
    {
      "cell_type": "code",
      "source": [
        "print(np.unique(y_train))           # Should be [0–9]\n",
        "print(np.unique(symbol_labels))     # Should be [10–13]\n"
      ],
      "metadata": {
        "colab": {
          "base_uri": "https://localhost:8080/"
        },
        "id": "s5Kux6warEKI",
        "outputId": "a64c42b2-4722-4240-e2d8-d7b36249853a"
      },
      "execution_count": 17,
      "outputs": [
        {
          "output_type": "stream",
          "name": "stdout",
          "text": [
            "[0 1 2 3 4 5 6 7 8 9]\n",
            "[10 11 12 13]\n"
          ]
        }
      ]
    },
    {
      "cell_type": "code",
      "source": [
        "from sklearn.utils import shuffle\n",
        "x_train_full, y_train_full = shuffle(x_train_full, y_train_full, random_state=42)\n"
      ],
      "metadata": {
        "id": "rlWflLUEyAgq"
      },
      "execution_count": 18,
      "outputs": []
    },
    {
      "cell_type": "code",
      "source": [
        "from tensorflow.keras.callbacks import EarlyStopping\n",
        "early_stopping = EarlyStopping(monitor='val_loss', patience=5, restore_best_weights=True)"
      ],
      "metadata": {
        "id": "dXC3HPhsqIz5"
      },
      "execution_count": 19,
      "outputs": []
    },
    {
      "cell_type": "code",
      "source": [
        "from tensorflow.keras import models, layers\n",
        "from tensorflow.keras.layers import Dropout\n",
        "\n",
        "model = models.Sequential([\n",
        "    layers.Conv2D(32, (3,3), activation='relu', input_shape=(28,28,1)),\n",
        "    layers.MaxPooling2D((2,2)),\n",
        "    layers.Dropout(0.25),\n",
        "\n",
        "    layers.Conv2D(64, (3,3), activation='relu'),\n",
        "    layers.MaxPooling2D((2,2)),\n",
        "    layers.Dropout(0.25),\n",
        "\n",
        "    layers.Flatten(),\n",
        "\n",
        "    layers.Dense(128, activation='relu',),\n",
        "    layers.Dropout(0.5),\n",
        "    layers.Dense(14, activation='softmax')\n",
        "])\n",
        "\n",
        "model.compile(optimizer='adam', loss='categorical_crossentropy', metrics=['accuracy'])\n",
        "history=model.fit(x_train_full, y_train_full, epochs=10, batch_size=64, validation_split=0.1,callbacks=early_stopping)\n"
      ],
      "metadata": {
        "colab": {
          "base_uri": "https://localhost:8080/"
        },
        "id": "r2hcVwSvrkVX",
        "outputId": "7f97fc73-15f5-43c8-8dbe-4f847ee02aa4"
      },
      "execution_count": 20,
      "outputs": [
        {
          "output_type": "stream",
          "name": "stderr",
          "text": [
            "/usr/local/lib/python3.11/dist-packages/keras/src/layers/convolutional/base_conv.py:107: UserWarning: Do not pass an `input_shape`/`input_dim` argument to a layer. When using Sequential models, prefer using an `Input(shape)` object as the first layer in the model instead.\n",
            "  super().__init__(activity_regularizer=activity_regularizer, **kwargs)\n"
          ]
        },
        {
          "output_type": "stream",
          "name": "stdout",
          "text": [
            "Epoch 1/10\n",
            "\u001b[1m1182/1182\u001b[0m \u001b[32m━━━━━━━━━━━━━━━━━━━━\u001b[0m\u001b[37m\u001b[0m \u001b[1m81s\u001b[0m 65ms/step - accuracy: 0.8031 - loss: 0.6072 - val_accuracy: 0.9852 - val_loss: 0.0480\n",
            "Epoch 2/10\n",
            "\u001b[1m1182/1182\u001b[0m \u001b[32m━━━━━━━━━━━━━━━━━━━━\u001b[0m\u001b[37m\u001b[0m \u001b[1m76s\u001b[0m 64ms/step - accuracy: 0.9737 - loss: 0.0893 - val_accuracy: 0.9896 - val_loss: 0.0313\n",
            "Epoch 3/10\n",
            "\u001b[1m1182/1182\u001b[0m \u001b[32m━━━━━━━━━━━━━━━━━━━━\u001b[0m\u001b[37m\u001b[0m \u001b[1m83s\u001b[0m 65ms/step - accuracy: 0.9811 - loss: 0.0621 - val_accuracy: 0.9917 - val_loss: 0.0291\n",
            "Epoch 4/10\n",
            "\u001b[1m1182/1182\u001b[0m \u001b[32m━━━━━━━━━━━━━━━━━━━━\u001b[0m\u001b[37m\u001b[0m \u001b[1m73s\u001b[0m 62ms/step - accuracy: 0.9821 - loss: 0.0557 - val_accuracy: 0.9920 - val_loss: 0.0249\n",
            "Epoch 5/10\n",
            "\u001b[1m1182/1182\u001b[0m \u001b[32m━━━━━━━━━━━━━━━━━━━━\u001b[0m\u001b[37m\u001b[0m \u001b[1m83s\u001b[0m 63ms/step - accuracy: 0.9849 - loss: 0.0482 - val_accuracy: 0.9923 - val_loss: 0.0245\n",
            "Epoch 6/10\n",
            "\u001b[1m1182/1182\u001b[0m \u001b[32m━━━━━━━━━━━━━━━━━━━━\u001b[0m\u001b[37m\u001b[0m \u001b[1m76s\u001b[0m 64ms/step - accuracy: 0.9863 - loss: 0.0460 - val_accuracy: 0.9924 - val_loss: 0.0251\n",
            "Epoch 7/10\n",
            "\u001b[1m1182/1182\u001b[0m \u001b[32m━━━━━━━━━━━━━━━━━━━━\u001b[0m\u001b[37m\u001b[0m \u001b[1m81s\u001b[0m 63ms/step - accuracy: 0.9892 - loss: 0.0349 - val_accuracy: 0.9940 - val_loss: 0.0219\n",
            "Epoch 8/10\n",
            "\u001b[1m1182/1182\u001b[0m \u001b[32m━━━━━━━━━━━━━━━━━━━━\u001b[0m\u001b[37m\u001b[0m \u001b[1m73s\u001b[0m 62ms/step - accuracy: 0.9892 - loss: 0.0345 - val_accuracy: 0.9931 - val_loss: 0.0256\n",
            "Epoch 9/10\n",
            "\u001b[1m1182/1182\u001b[0m \u001b[32m━━━━━━━━━━━━━━━━━━━━\u001b[0m\u001b[37m\u001b[0m \u001b[1m82s\u001b[0m 63ms/step - accuracy: 0.9901 - loss: 0.0318 - val_accuracy: 0.9939 - val_loss: 0.0207\n",
            "Epoch 10/10\n",
            "\u001b[1m1182/1182\u001b[0m \u001b[32m━━━━━━━━━━━━━━━━━━━━\u001b[0m\u001b[37m\u001b[0m \u001b[1m82s\u001b[0m 62ms/step - accuracy: 0.9914 - loss: 0.0299 - val_accuracy: 0.9951 - val_loss: 0.0215\n"
          ]
        }
      ]
    },
    {
      "cell_type": "code",
      "source": [
        "model.save(\"digit_symbol_classifier.keras\")"
      ],
      "metadata": {
        "id": "WeffaWLit5Qs"
      },
      "execution_count": 54,
      "outputs": []
    },
    {
      "cell_type": "code",
      "source": [
        "import matplotlib.pyplot as plt\n",
        "import numpy as np\n",
        "\n",
        "# Pick a random image from the combined set\n",
        "#i = np.random.randint(0, len(x_train_full))\n",
        "i = np.random.randint(0, len(x_test_full))\n",
        "sample = x_test_full[i]\n",
        "#sample = x_train_full[i]\n",
        "#sample=x_test[200]\n",
        "\n",
        "\n",
        "# Predict\n",
        "pred = model.predict(sample.reshape(1, 28, 28, 1))\n",
        "predicted_class = np.argmax(pred)\n",
        "\n",
        "# Show image + prediction\n",
        "plt.imshow(sample.squeeze(), cmap='gray')\n",
        "plt.title(f\"Predicted class: {predicted_class}\")\n",
        "plt.axis('off')\n",
        "plt.show()\n"
      ],
      "metadata": {
        "colab": {
          "base_uri": "https://localhost:8080/",
          "height": 445
        },
        "id": "R-oX-JDfvHRP",
        "outputId": "182ee00b-9805-4fe1-d057-9f7a587990bd"
      },
      "execution_count": 27,
      "outputs": [
        {
          "output_type": "stream",
          "name": "stdout",
          "text": [
            "\u001b[1m1/1\u001b[0m \u001b[32m━━━━━━━━━━━━━━━━━━━━\u001b[0m\u001b[37m\u001b[0m \u001b[1m0s\u001b[0m 45ms/step\n"
          ]
        },
        {
          "output_type": "display_data",
          "data": {
            "text/plain": [
              "<Figure size 640x480 with 1 Axes>"
            ],
            "image/png": "[encoded data removed]"
          },
          "metadata": {}
        }
      ]
    },
    {
      "cell_type": "code",
      "source": [
        "from sklearn.metrics import classification_report\n",
        "y_pred = model.predict(x_test_full)\n",
        "y_pred_classes = np.argmax(y_pred, axis=1)\n",
        "y_test_full = y_test_full.astype(int)\n",
        "\n",
        "print(classification_report(y_test_full, y_pred_classes))\n"
      ],
      "metadata": {
        "colab": {
          "base_uri": "https://localhost:8080/"
        },
        "id": "T_7UB7sJfj8D",
        "outputId": "685bc3e2-13ce-4cc8-993c-ea26e0233a32"
      },
      "execution_count": null,
      "outputs": [
        {
          "output_type": "stream",
          "name": "stdout",
          "text": [
            "\u001b[1m1063/1063\u001b[0m \u001b[32m━━━━━━━━━━━━━━━━━━━━\u001b[0m\u001b[37m\u001b[0m \u001b[1m5s\u001b[0m 5ms/step\n",
            "              precision    recall  f1-score   support\n",
            "\n",
            "           0       0.00      0.00      0.00     10000\n",
            "           1       0.00      0.00      0.00         0\n",
            "          10       0.46      1.00      0.63      6000\n",
            "          11       1.00      1.00      1.00      6000\n",
            "          12       0.40      1.00      0.57      6000\n",
            "          13       0.00      0.00      0.00      6000\n",
            "\n",
            "    accuracy                           0.53     34000\n",
            "   macro avg       0.31      0.50      0.37     34000\n",
            "weighted avg       0.33      0.53      0.39     34000\n",
            "\n"
          ]
        },
        {
          "output_type": "stream",
          "name": "stderr",
          "text": [
            "/usr/local/lib/python3.11/dist-packages/sklearn/metrics/_classification.py:1565: UndefinedMetricWarning: Precision is ill-defined and being set to 0.0 in labels with no predicted samples. Use `zero_division` parameter to control this behavior.\n",
            "  _warn_prf(average, modifier, f\"{metric.capitalize()} is\", len(result))\n",
            "/usr/local/lib/python3.11/dist-packages/sklearn/metrics/_classification.py:1565: UndefinedMetricWarning: Recall is ill-defined and being set to 0.0 in labels with no true samples. Use `zero_division` parameter to control this behavior.\n",
            "  _warn_prf(average, modifier, f\"{metric.capitalize()} is\", len(result))\n",
            "/usr/local/lib/python3.11/dist-packages/sklearn/metrics/_classification.py:1565: UndefinedMetricWarning: Precision is ill-defined and being set to 0.0 in labels with no predicted samples. Use `zero_division` parameter to control this behavior.\n",
            "  _warn_prf(average, modifier, f\"{metric.capitalize()} is\", len(result))\n",
            "/usr/local/lib/python3.11/dist-packages/sklearn/metrics/_classification.py:1565: UndefinedMetricWarning: Recall is ill-defined and being set to 0.0 in labels with no true samples. Use `zero_division` parameter to control this behavior.\n",
            "  _warn_prf(average, modifier, f\"{metric.capitalize()} is\", len(result))\n",
            "/usr/local/lib/python3.11/dist-packages/sklearn/metrics/_classification.py:1565: UndefinedMetricWarning: Precision is ill-defined and being set to 0.0 in labels with no predicted samples. Use `zero_division` parameter to control this behavior.\n",
            "  _warn_prf(average, modifier, f\"{metric.capitalize()} is\", len(result))\n",
            "/usr/local/lib/python3.11/dist-packages/sklearn/metrics/_classification.py:1565: UndefinedMetricWarning: Recall is ill-defined and being set to 0.0 in labels with no true samples. Use `zero_division` parameter to control this behavior.\n",
            "  _warn_prf(average, modifier, f\"{metric.capitalize()} is\", len(result))\n"
          ]
        }
      ]
    },
    {
      "cell_type": "code",
      "source": [
        "print(history.history.keys())"
      ],
      "metadata": {
        "colab": {
          "base_uri": "https://localhost:8080/"
        },
        "id": "ZHmGI75vaq98",
        "outputId": "46b9ef9c-20ff-49d4-b420-c8a18028b28a"
      },
      "execution_count": 120,
      "outputs": [
        {
          "output_type": "stream",
          "name": "stdout",
          "text": [
            "dict_keys(['accuracy', 'loss', 'val_accuracy', 'val_loss'])\n"
          ]
        }
      ]
    },
    {
      "cell_type": "code",
      "source": [
        "plt.plot(history.history['accuracy'], label='accuracy')\n",
        "plt.plot(history.history['val_accuracy'], label = 'val_accuracy')\n",
        "plt.xlabel('Epoch')\n",
        "plt.ylabel('Accuracy')\n",
        "plt.ylim([0.5, 1])\n",
        "plt.legend(loc='lower right')\n",
        "\n",
        "test_loss, test_acc = model.evaluate(x_train_full,  y_train_full, verbose=2)"
      ],
      "metadata": {
        "colab": {
          "base_uri": "https://localhost:8080/",
          "height": 472
        },
        "id": "n2VjOdYMvwXa",
        "outputId": "1b37d8f2-5c20-4106-f7b1-5fab3e2657d6"
      },
      "execution_count": 47,
      "outputs": [
        {
          "output_type": "stream",
          "name": "stdout",
          "text": [
            "2625/2625 - 24s - 9ms/step - accuracy: 0.9972 - loss: 0.0092\n"
          ]
        },
        {
          "output_type": "display_data",
          "data": {
            "text/plain": [
              "<Figure size 640x480 with 1 Axes>"
            ],
            "image/png": "[encoded data removed]"
          },
          "metadata": {}
        }
      ]
    },
    {
      "cell_type": "code",
      "source": [
        "from google.colab import files\n",
        "files.download(\"digit_symbol_classifier.keras\")"
      ],
      "metadata": {
        "id": "f5K5JmwYxAdQ"
      },
      "execution_count": null,
      "outputs": []
    },
    {
      "cell_type": "markdown",
      "source": [
        "#From here, i tried to build a model that can calculate arithmetic operation by detecting nos\n",
        "\n",
        "But the model has some errors in data segmentation and identification here. hence the final result isn’t perfect.\n",
        "\n",
        "**THE ORIGINAL NUMBER AND OPERATOR IDENTIFIER MODEL CODE ENDS HERE**\n",
        "--------------------------------------------------"
      ],
      "metadata": {
        "id": "Rhmxknwdu_He"
      }
    },
    {
      "cell_type": "code",
      "source": [
        "import cv2\n",
        "import numpy as np\n",
        "import os\n",
        "\n",
        "# Increased width per character to avoid overlap\n",
        "char_width = 40\n",
        "img = np.ones((28, char_width * 3), dtype=np.uint8) * 255\n",
        "\n",
        "expr = \"0+5\"\n",
        "\n",
        "for i, ch in enumerate(expr):\n",
        "    cv2.putText(\n",
        "        img,\n",
        "        ch,\n",
        "        (i * char_width + 5, 24),  # Increased spacing\n",
        "        cv2.FONT_HERSHEY_SIMPLEX,\n",
        "        1.0,\n",
        "        (0,),\n",
        "        2\n",
        "    )\n",
        "\n",
        "os.makedirs(\"test_images\", exist_ok=True)\n",
        "cv2.imwrite(\"test_images/expr_00+5.png\", img)\n",
        "\n"
      ],
      "metadata": {
        "colab": {
          "base_uri": "https://localhost:8080/"
        },
        "id": "wKRjfRixxZX9",
        "outputId": "885b8e36-12e5-4190-e370-a70ca1eae704"
      },
      "execution_count": 51,
      "outputs": [
        {
          "output_type": "execute_result",
          "data": {
            "text/plain": [
              "True"
            ]
          },
          "metadata": {},
          "execution_count": 51
        }
      ]
    },
    {
      "cell_type": "code",
      "source": [
        "\n"
      ],
      "metadata": {
        "id": "e7pDESAdyThv"
      },
      "execution_count": 43,
      "outputs": []
    },
    {
      "cell_type": "code",
      "source": [
        "import numpy as np\n",
        "import cv2\n",
        "from tensorflow.keras.models import load_model\n",
        "import matplotlib.pyplot as plt\n",
        "\n",
        "# Load grayscale image\n",
        "img = cv2.imread(\"test_images/expr_00+5.png\", cv2.IMREAD_GRAYSCALE)\n",
        "\n",
        "# Threshold to binary\n",
        "_, thresh = cv2.threshold(img, 0, 255, cv2.THRESH_BINARY_INV + cv2.THRESH_OTSU)\n",
        "\n",
        "# Find contours\n",
        "contours, _ = cv2.findContours(thresh, cv2.RETR_EXTERNAL, cv2.CHAIN_APPROX_SIMPLE)\n",
        "\n",
        "# Get bounding boxes, filter out small ones\n",
        "boxes = [cv2.boundingRect(c) for c in contours if cv2.contourArea(c) > 50]\n",
        "\n",
        "# Sort boxes left-to-right\n",
        "boxes = sorted(boxes, key=lambda b: b[0])\n",
        "\n",
        "# Resize with padding\n",
        "def resize_with_padding(image, size=28):\n",
        "    h, w = image.shape\n",
        "    scale = size / max(h, w)\n",
        "    new_w, new_h = int(w * scale), int(h * scale)\n",
        "    resized = cv2.resize(image, (new_w, new_h))\n",
        "\n",
        "    top = (size - new_h) // 2\n",
        "    bottom = size - new_h - top\n",
        "    left = (size - new_w) // 2\n",
        "    right = size - new_w - left\n",
        "\n",
        "    padded = cv2.copyMakeBorder(resized, top, bottom, left, right, cv2.BORDER_CONSTANT, value=0)\n",
        "    return padded\n",
        "\n",
        "# Extract and preprocess characters\n",
        "chars = []\n",
        "for x, y, w, h in boxes:\n",
        "    roi = thresh[y:y+h, x:x+w]\n",
        "    roi = resize_with_padding(roi)\n",
        "    roi = roi.astype('float32') / 255.0\n",
        "    roi = roi.reshape(1, 28, 28, 1)\n",
        "    chars.append(roi)\n",
        "\n",
        "# Optional: visualize\n",
        "for i, roi in enumerate(chars):\n",
        "    plt.imshow(roi.reshape(28, 28), cmap='gray')\n",
        "    plt.title(f\"Char {i+1}\")\n",
        "    plt.show()\n",
        "\n",
        "# Load model\n",
        "model = load_model(\"digit_symbol_classifier.keras\")\n",
        "\n",
        "# Predict all characters\n",
        "char_imgs = np.vstack(chars)\n",
        "preds = model.predict(char_imgs)\n",
        "\n",
        "# Decode predictions\n",
        "def decode(p):\n",
        "    if p < 10:\n",
        "        return str(p)\n",
        "    return ['+', '-', '*', '/'][p - 10]\n",
        "\n",
        "for i, p in enumerate(preds):\n",
        "    print(f\"Char {i+1} prediction vector:\", np.round(p, 2))\n",
        "    print(f\"Top label: {np.argmax(p)} | Confidence: {np.max(p):.2f}\")\n",
        "\n",
        "decoded = [decode(np.argmax(p)) for p in preds]\n",
        "print(\"Decoded characters:\", decoded)\n",
        "\n",
        "# Evaluate expression\n",
        "if len(decoded) == 3 and decoded[0].isdigit() and decoded[2].isdigit() and decoded[1] in '+-*/':\n",
        "    expr = ''.join(decoded)\n",
        "    try:\n",
        "        result = eval(expr)\n",
        "    except Exception as e:\n",
        "        result = f\"Error: {e}\"\n",
        "else:\n",
        "    expr = ''.join(decoded)\n",
        "    result = \"Invalid expression\"\n",
        "\n",
        "print(f\"Expression: {expr}\")\n",
        "print(f\"Result: {result}\")\n",
        "\n",
        "\n"
      ],
      "metadata": {
        "colab": {
          "base_uri": "https://localhost:8080/",
          "height": 1000
        },
        "id": "X0FWp4Hg2786",
        "outputId": "163d796f-5c56-4761-d3fe-64f6439f0538"
      },
      "execution_count": 52,
      "outputs": [
        {
          "output_type": "display_data",
          "data": {
            "text/plain": [
              "<Figure size 640x480 with 1 Axes>"
            ],
            "image/png": "[encoded data removed]"
          },
          "metadata": {}
        },
        {
          "output_type": "display_data",
          "data": {
            "text/plain": [
              "<Figure size 640x480 with 1 Axes>"
            ],
            "image/png": "[encoded data removed]"
          },
          "metadata": {}
        },
        {
          "output_type": "display_data",
          "data": {
            "text/plain": [
              "<Figure size 640x480 with 1 Axes>"
            ],
            "image/png": "[encoded data removed]"
          },
          "metadata": {}
        },
        {
          "output_type": "stream",
          "name": "stdout",
          "text": [
            "\u001b[1m1/1\u001b[0m \u001b[32m━━━━━━━━━━━━━━━━━━━━\u001b[0m\u001b[37m\u001b[0m \u001b[1m0s\u001b[0m 120ms/step\n",
            "Char 1 prediction vector: [1. 0. 0. 0. 0. 0. 0. 0. 0. 0. 0. 0. 0. 0.]\n",
            "Top label: 0 | Confidence: 1.00\n",
            "Char 2 prediction vector: [0.   0.02 0.   0.   0.98 0.   0.   0.   0.   0.   0.   0.   0.   0.  ]\n",
            "Top label: 4 | Confidence: 0.98\n",
            "Char 3 prediction vector: [0.   0.   0.   0.   0.   0.89 0.   0.11 0.   0.   0.   0.   0.   0.  ]\n",
            "Top label: 5 | Confidence: 0.89\n",
            "Decoded characters: ['0', '4', '5']\n",
            "Expression: 045\n",
            "Result: Invalid expression\n"
          ]
        }
      ]
    },
    {
      "cell_type": "code",
      "source": [
        "print(\"Decoded characters:\", decoded)"
      ],
      "metadata": {
        "colab": {
          "base_uri": "https://localhost:8080/"
        },
        "id": "wNQG32QEA_EG",
        "outputId": "4adac53e-affc-4c11-f8fd-a0e4ecdc0baf"
      },
      "execution_count": null,
      "outputs": [
        {
          "output_type": "stream",
          "name": "stdout",
          "text": [
            "Decoded characters: ['3', '4', '5']\n"
          ]
        }
      ]
    },
    {
      "cell_type": "code",
      "source": [
        "\n"
      ],
      "metadata": {
        "colab": {
          "base_uri": "https://localhost:8080/",
          "height": 17
        },
        "id": "MJvzuPxRtliR",
        "outputId": "31a269e6-0e9b-42ca-ddcb-44f43739191c"
      },
      "execution_count": 55,
      "outputs": [
        {
          "output_type": "display_data",
          "data": {
            "text/plain": [
              "<IPython.core.display.Javascript object>"
            ],
            "application/javascript": [
              "\n",
              "    async function download(id, filename, size) {\n",
              "      if (!google.colab.kernel.accessAllowed) {\n",
              "        return;\n",
              "      }\n",
              "      const div = document.createElement('div');\n",
              "      const label = document.createElement('label');\n",
              "      label.textContent = `Downloading \"${filename}\": `;\n",
              "      div.appendChild(label);\n",
              "      const progress = document.createElement('progress');\n",
              "      progress.max = size;\n",
              "      div.appendChild(progress);\n",
              "      document.body.appendChild(div);\n",
              "\n",
              "      const buffers = [];\n",
              "      let downloaded = 0;\n",
              "\n",
              "      const channel = await google.colab.kernel.comms.open(id);\n",
              "      // Send a message to notify the kernel that we're ready.\n",
              "      channel.send({})\n",
              "\n",
              "      for await (const message of channel.messages) {\n",
              "        // Send a message to notify the kernel that we're ready.\n",
              "        channel.send({})\n",
              "        if (message.buffers) {\n",
              "          for (const buffer of message.buffers) {\n",
              "            buffers.push(buffer);\n",
              "            downloaded += buffer.byteLength;\n",
              "            progress.value = downloaded;\n",
              "          }\n",
              "        }\n",
              "      }\n",
              "      const blob = new Blob(buffers, {type: 'application/binary'});\n",
              "      const a = document.createElement('a');\n",
              "      a.href = window.URL.createObjectURL(blob);\n",
              "      a.download = filename;\n",
              "      div.appendChild(a);\n",
              "      a.click();\n",
              "      div.remove();\n",
              "    }\n",
              "  "
            ]
          },
          "metadata": {}
        },
        {
          "output_type": "display_data",
          "data": {
            "text/plain": [
              "<IPython.core.display.Javascript object>"
            ],
            "application/javascript": [
              "download(\"download_13c4fac9-bc0c-4ac3-84f3-6556a4813807\", \"digit_symbol_classifier.keras\", 2750405)"
            ]
          },
          "metadata": {}
        }
      ]
    }
  ]
}